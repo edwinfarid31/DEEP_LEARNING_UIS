{
 "cells": [
  {
   "cell_type": "markdown",
   "id": "c5e9bd35",
   "metadata": {},
   "source": [
    "## Numpy Notes\n"
   ]
  },
  {
   "cell_type": "code",
   "execution_count": 1,
   "id": "7b435b5a",
   "metadata": {},
   "outputs": [
    {
     "name": "stdout",
     "output_type": "stream",
     "text": [
      "<class 'list'>\n",
      "<class 'numpy.ndarray'>\n",
      "<class 'tuple'>\n",
      "<class 'numpy.ndarray'>\n"
     ]
    }
   ],
   "source": [
    "import numpy as np \n",
    "\n",
    "lista = [1,2,3,4]\n",
    "print(type(lista))\n",
    "arreglo = np.array(lista)\n",
    "print(type(arreglo))\n",
    "\n",
    "tupla = (1,2,3,4)\n",
    "print(type(tupla))\n",
    "arreglo2 = np.array(tupla)\n",
    "print(type(arreglo2))"
   ]
  },
  {
   "cell_type": "markdown",
   "id": "81bfce75",
   "metadata": {},
   "source": [
    "#### Dimensiones \n",
    "\n",
    "Las formas de los arrays se pueden ver con .shape()"
   ]
  },
  {
   "cell_type": "code",
   "execution_count": 2,
   "id": "373a3512",
   "metadata": {},
   "outputs": [
    {
     "name": "stdout",
     "output_type": "stream",
     "text": [
      "(2, 3)\n"
     ]
    }
   ],
   "source": [
    "import numpy as np \n",
    "\n",
    "arr1 = np.array([    #tiene dos dimenciones y es una matriz 2x3\n",
    "    [1, 2, 3],\n",
    "    [4, 5, 6]\n",
    "])\n",
    "print(arr1.shape)"
   ]
  },
  {
   "cell_type": "code",
   "execution_count": 3,
   "id": "53edd56a",
   "metadata": {},
   "outputs": [
    {
     "name": "stdout",
     "output_type": "stream",
     "text": [
      "Shape: (2, 2, 3, 4)\n",
      "Número de dimensiones: 4\n"
     ]
    }
   ],
   "source": [
    "import numpy as np\n",
    "# Arreglo 4D (2 bloques, 2 matrices por bloque, 3 filas por matriz, 4 columnas por fila)\n",
    "arr_4d = np.array([\n",
    "    [  \n",
    "        [   \n",
    "            [1, 2, 3, 4],\n",
    "            [5, 6, 7, 8],\n",
    "            [9, 10, 11, 12]\n",
    "        ],\n",
    "        [   \n",
    "            [13, 14, 15, 16],\n",
    "            [17, 18, 19, 20],\n",
    "            [21, 22, 23, 24]\n",
    "        ]\n",
    "    ],\n",
    "    [   \n",
    "        [   # Matriz 2.1\n",
    "            [25, 26, 27, 28],\n",
    "            [29, 30, 31, 32],\n",
    "            [33, 34, 35, 36]\n",
    "        ],\n",
    "        [  \n",
    "            [37, 38, 39, 40],\n",
    "            [41, 42, 43, 44],\n",
    "            [45, 46, 47, 48]\n",
    "        ]\n",
    "    ]\n",
    "])\n",
    "\n",
    "print(\"Shape:\", arr_4d.shape)  # Salida: (2, 2, 3, 4)\n",
    "print(\"Número de dimensiones:\", arr_4d.ndim)  # Salida: 4"
   ]
  },
  {
   "cell_type": "markdown",
   "id": "c2f2b6c9",
   "metadata": {},
   "source": [
    "### reshape \n",
    "Es una forma de reorganizar un array cambiandole la forma "
   ]
  },
  {
   "cell_type": "code",
   "execution_count": 4,
   "id": "966cd783",
   "metadata": {},
   "outputs": [
    {
     "name": "stdout",
     "output_type": "stream",
     "text": [
      "[1 2 3 4 5 6]\n",
      " \n",
      "[[1 2 3]\n",
      " [4 5 6]]\n"
     ]
    }
   ],
   "source": [
    "import numpy as np\n",
    "\n",
    "# Crear un array de 1 dimensión con 6 elementos\n",
    "arr = np.array([1, 2, 3, 4, 5, 6])\n",
    "\n",
    "# Cambiar la forma del array a 2 filas por 3 columnas\n",
    "nuevo_arr = arr.reshape(2, 3)\n",
    "\n",
    "print(arr)\n",
    "print(' ')\n",
    "print(nuevo_arr)\n"
   ]
  },
  {
   "cell_type": "markdown",
   "id": "d9467a5f",
   "metadata": {},
   "source": [
    "### operacion elemento a elemento \n",
    "\n",
    "Son operaciones que se realizan sobre cada elemento "
   ]
  },
  {
   "cell_type": "code",
   "execution_count": 5,
   "id": "5e5470e3",
   "metadata": {},
   "outputs": [
    {
     "name": "stdout",
     "output_type": "stream",
     "text": [
      "[5 7 9]\n",
      "[-3 -3 -3]\n",
      "[ 4 10 18]\n",
      "[0.25 0.4  0.5 ]\n"
     ]
    }
   ],
   "source": [
    "import numpy as np \n",
    "\n",
    "a = np.array([1, 2, 3])\n",
    "b = np.array([4, 5, 6])\n",
    "print(a + b) # Suma\n",
    "print(a - b) # Resta\n",
    "print(a * b) # Multiplicación elemento a elemento\n",
    "print(a / b) # División elemento a elemento"
   ]
  },
  {
   "cell_type": "markdown",
   "id": "bb80685c",
   "metadata": {},
   "source": [
    "### operaciones gregadas \n",
    "\n",
    "Estas operaciones son propias de numpy, la mayot ventaja de estas es que se desbloquea el concepto de axis."
   ]
  },
  {
   "cell_type": "code",
   "execution_count": 1,
   "id": "da5df74e",
   "metadata": {},
   "outputs": [
    {
     "name": "stdout",
     "output_type": "stream",
     "text": [
      "10\n",
      "[4 6]\n"
     ]
    }
   ],
   "source": [
    "import numpy as np\n",
    "arr = np.array([[1, 2], [3, 4]])\n",
    "print(np.sum(arr))       # 10 (suma total)\n",
    "print(np.sum(arr, axis=0))  # [4, 6] (suma por columnas)"
   ]
  },
  {
   "cell_type": "code",
   "execution_count": 2,
   "id": "58220bd4",
   "metadata": {},
   "outputs": [
    {
     "name": "stdout",
     "output_type": "stream",
     "text": [
      "2.5\n",
      "[1.5 3.5]\n"
     ]
    }
   ],
   "source": [
    "arr = np.array([[1, 2], [3, 4]])\n",
    "print(np.mean(arr))       # 2.5 (promedio total)\n",
    "print(np.mean(arr, axis=1))  # [1.5, 3.5] (promedio por filas)"
   ]
  },
  {
   "cell_type": "code",
   "execution_count": 3,
   "id": "eccc81d8",
   "metadata": {},
   "outputs": [
    {
     "name": "stdout",
     "output_type": "stream",
     "text": [
      "1\n",
      "[1 2]\n"
     ]
    }
   ],
   "source": [
    "arr = np.array([[1, 2], [3, 4]])\n",
    "print(np.min(arr))       # 1 (mínimo total)\n",
    "print(np.min(arr, axis=0))  # [1, 2] (mínimo por columnas)"
   ]
  },
  {
   "cell_type": "code",
   "execution_count": 4,
   "id": "50a78407",
   "metadata": {},
   "outputs": [
    {
     "name": "stdout",
     "output_type": "stream",
     "text": [
      "4\n",
      "[2 4]\n"
     ]
    }
   ],
   "source": [
    "arr = np.array([[1, 2], [3, 4]])\n",
    "print(np.max(arr))       # 4 (máximo total)\n",
    "print(np.max(arr, axis=1))  # [2, 4] (máximo por filas)"
   ]
  },
  {
   "cell_type": "code",
   "execution_count": 10,
   "id": "0a7496db",
   "metadata": {},
   "outputs": [
    {
     "name": "stdout",
     "output_type": "stream",
     "text": [
      "1.118033988749895\n",
      "[1. 1.]\n"
     ]
    }
   ],
   "source": [
    "arr = np.array([[1, 2], [3, 4]])\n",
    "print(np.std(arr))       # 1.118 (desviación total)\n",
    "print(np.std(arr, axis=0))  # [1., 1.] (desviación por columnas)"
   ]
  },
  {
   "cell_type": "code",
   "execution_count": 5,
   "id": "29641dfa",
   "metadata": {},
   "outputs": [
    {
     "name": "stdout",
     "output_type": "stream",
     "text": [
      "1.25\n",
      "[0.25 0.25]\n"
     ]
    }
   ],
   "source": [
    "arr = np.array([[1, 2], [3, 4]])\n",
    "print(np.var(arr))       # 1.25 (varianza total)\n",
    "print(np.var(arr, axis=1))  # [0.25, 0.25] (varianza por filas)"
   ]
  }
 ],
 "metadata": {
  "kernelspec": {
   "display_name": "Python 3",
   "language": "python",
   "name": "python3"
  },
  "language_info": {
   "codemirror_mode": {
    "name": "ipython",
    "version": 3
   },
   "file_extension": ".py",
   "mimetype": "text/x-python",
   "name": "python",
   "nbconvert_exporter": "python",
   "pygments_lexer": "ipython3",
   "version": "3.13.7"
  }
 },
 "nbformat": 4,
 "nbformat_minor": 5
}
